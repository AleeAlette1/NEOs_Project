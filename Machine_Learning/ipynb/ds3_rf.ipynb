{
 "cells": [
  {
   "cell_type": "code",
   "execution_count": 1,
   "id": "3d375a68",
   "metadata": {},
   "outputs": [],
   "source": [
    "import warnings\n",
    "warnings.filterwarnings('ignore')"
   ]
  },
  {
   "cell_type": "code",
   "execution_count": 2,
   "id": "bd811405",
   "metadata": {},
   "outputs": [],
   "source": [
    "import numpy as np\n",
    "import pandas as pd\n",
    "from pathlib import Path\n",
    "from collections import Counter"
   ]
  },
  {
   "cell_type": "code",
   "execution_count": 10,
   "id": "02ec96eb",
   "metadata": {},
   "outputs": [],
   "source": [
    "from sklearn.metrics import balanced_accuracy_score\n",
    "from imblearn.metrics import classification_report_imbalanced\n",
    "# Import our dependencies\n",
    "from sklearn.model_selection import train_test_split\n",
    "from sklearn.preprocessing import StandardScaler\n",
    "from sklearn.ensemble import RandomForestClassifier\n",
    "from sklearn.preprocessing import OneHotEncoder\n",
    "import pandas as pd\n",
    "from sklearn.metrics import confusion_matrix, accuracy_score, classification_report"
   ]
  },
  {
   "cell_type": "code",
   "execution_count": 4,
   "id": "153b213c",
   "metadata": {},
   "outputs": [],
   "source": [
    "file_path = \"ds3_cleaned.csv\"\n",
    "ds3 = pd.read_csv(file_path, index_col=0)"
   ]
  },
  {
   "cell_type": "code",
   "execution_count": 5,
   "id": "52be9d03",
   "metadata": {},
   "outputs": [
    {
     "data": {
      "text/html": [
       "<div>\n",
       "<style scoped>\n",
       "    .dataframe tbody tr th:only-of-type {\n",
       "        vertical-align: middle;\n",
       "    }\n",
       "\n",
       "    .dataframe tbody tr th {\n",
       "        vertical-align: top;\n",
       "    }\n",
       "\n",
       "    .dataframe thead th {\n",
       "        text-align: right;\n",
       "    }\n",
       "</style>\n",
       "<table border=\"1\" class=\"dataframe\">\n",
       "  <thead>\n",
       "    <tr style=\"text-align: right;\">\n",
       "      <th></th>\n",
       "      <th>pha</th>\n",
       "      <th>sigma_e</th>\n",
       "      <th>sigma_a</th>\n",
       "      <th>sigma_q</th>\n",
       "      <th>sigma_i</th>\n",
       "      <th>sigma_om</th>\n",
       "      <th>sigma_w</th>\n",
       "      <th>sigma_ma</th>\n",
       "      <th>sigma_ad</th>\n",
       "      <th>sigma_n</th>\n",
       "      <th>sigma_tp</th>\n",
       "      <th>sigma_per</th>\n",
       "    </tr>\n",
       "    <tr>\n",
       "      <th>spkid</th>\n",
       "      <th></th>\n",
       "      <th></th>\n",
       "      <th></th>\n",
       "      <th></th>\n",
       "      <th></th>\n",
       "      <th></th>\n",
       "      <th></th>\n",
       "      <th></th>\n",
       "      <th></th>\n",
       "      <th></th>\n",
       "      <th></th>\n",
       "      <th></th>\n",
       "    </tr>\n",
       "  </thead>\n",
       "  <tbody>\n",
       "    <tr>\n",
       "      <th>2000433</th>\n",
       "      <td>0</td>\n",
       "      <td>9.400000e-09</td>\n",
       "      <td>1.600000e-10</td>\n",
       "      <td>1.400000e-08</td>\n",
       "      <td>1.200000e-06</td>\n",
       "      <td>0.000004</td>\n",
       "      <td>0.000004</td>\n",
       "      <td>0.000001</td>\n",
       "      <td>1.900000e-10</td>\n",
       "      <td>9.100000e-11</td>\n",
       "      <td>0.000003</td>\n",
       "      <td>1.000000e-07</td>\n",
       "    </tr>\n",
       "    <tr>\n",
       "      <th>2000719</th>\n",
       "      <td>0</td>\n",
       "      <td>2.200000e-08</td>\n",
       "      <td>2.500000e-09</td>\n",
       "      <td>5.800000e-08</td>\n",
       "      <td>2.900000e-06</td>\n",
       "      <td>0.000016</td>\n",
       "      <td>0.000016</td>\n",
       "      <td>0.000003</td>\n",
       "      <td>3.900000e-09</td>\n",
       "      <td>3.300000e-10</td>\n",
       "      <td>0.000012</td>\n",
       "      <td>2.300000e-06</td>\n",
       "    </tr>\n",
       "    <tr>\n",
       "      <th>2000887</th>\n",
       "      <td>0</td>\n",
       "      <td>2.700000e-08</td>\n",
       "      <td>3.000000e-09</td>\n",
       "      <td>6.700000e-08</td>\n",
       "      <td>3.100000e-06</td>\n",
       "      <td>0.000023</td>\n",
       "      <td>0.000024</td>\n",
       "      <td>0.000004</td>\n",
       "      <td>4.700000e-09</td>\n",
       "      <td>4.600000e-10</td>\n",
       "      <td>0.000014</td>\n",
       "      <td>2.600000e-06</td>\n",
       "    </tr>\n",
       "    <tr>\n",
       "      <th>2001036</th>\n",
       "      <td>0</td>\n",
       "      <td>1.100000e-08</td>\n",
       "      <td>1.900000e-09</td>\n",
       "      <td>3.000000e-08</td>\n",
       "      <td>4.900000e-07</td>\n",
       "      <td>0.000001</td>\n",
       "      <td>0.000001</td>\n",
       "      <td>0.000002</td>\n",
       "      <td>2.900000e-09</td>\n",
       "      <td>2.400000e-10</td>\n",
       "      <td>0.000006</td>\n",
       "      <td>1.700000e-06</td>\n",
       "    </tr>\n",
       "    <tr>\n",
       "      <th>2001221</th>\n",
       "      <td>0</td>\n",
       "      <td>3.300000e-08</td>\n",
       "      <td>9.200000e-10</td>\n",
       "      <td>6.300000e-08</td>\n",
       "      <td>4.400000e-06</td>\n",
       "      <td>0.000021</td>\n",
       "      <td>0.000022</td>\n",
       "      <td>0.000008</td>\n",
       "      <td>1.300000e-09</td>\n",
       "      <td>2.700000e-10</td>\n",
       "      <td>0.000021</td>\n",
       "      <td>7.000000e-07</td>\n",
       "    </tr>\n",
       "  </tbody>\n",
       "</table>\n",
       "</div>"
      ],
      "text/plain": [
       "         pha       sigma_e       sigma_a       sigma_q       sigma_i  \\\n",
       "spkid                                                                  \n",
       "2000433    0  9.400000e-09  1.600000e-10  1.400000e-08  1.200000e-06   \n",
       "2000719    0  2.200000e-08  2.500000e-09  5.800000e-08  2.900000e-06   \n",
       "2000887    0  2.700000e-08  3.000000e-09  6.700000e-08  3.100000e-06   \n",
       "2001036    0  1.100000e-08  1.900000e-09  3.000000e-08  4.900000e-07   \n",
       "2001221    0  3.300000e-08  9.200000e-10  6.300000e-08  4.400000e-06   \n",
       "\n",
       "         sigma_om   sigma_w  sigma_ma      sigma_ad       sigma_n  sigma_tp  \\\n",
       "spkid                                                                         \n",
       "2000433  0.000004  0.000004  0.000001  1.900000e-10  9.100000e-11  0.000003   \n",
       "2000719  0.000016  0.000016  0.000003  3.900000e-09  3.300000e-10  0.000012   \n",
       "2000887  0.000023  0.000024  0.000004  4.700000e-09  4.600000e-10  0.000014   \n",
       "2001036  0.000001  0.000001  0.000002  2.900000e-09  2.400000e-10  0.000006   \n",
       "2001221  0.000021  0.000022  0.000008  1.300000e-09  2.700000e-10  0.000021   \n",
       "\n",
       "            sigma_per  \n",
       "spkid                  \n",
       "2000433  1.000000e-07  \n",
       "2000719  2.300000e-06  \n",
       "2000887  2.600000e-06  \n",
       "2001036  1.700000e-06  \n",
       "2001221  7.000000e-07  "
      ]
     },
     "execution_count": 5,
     "metadata": {},
     "output_type": "execute_result"
    }
   ],
   "source": [
    "ds3.head()"
   ]
  },
  {
   "cell_type": "code",
   "execution_count": 6,
   "id": "0ec5bb37",
   "metadata": {},
   "outputs": [],
   "source": [
    "# Will use standard scaler to try and reduce bias.  Will drop pha and make it y\n",
    "\n",
    "# Remove pha status target from features data\n",
    "y = ds3.pha\n",
    "X = ds3.drop(columns=['pha'])\n",
    "\n",
    "# Split training/test datasets\n",
    "X_train, X_test, y_train, y_test = train_test_split(X, y, random_state=42, stratify=y)\n",
    "\n",
    "# Create a StandardScaler instance\n",
    "scaler = StandardScaler()\n",
    "\n",
    "# Fit the StandardScaler\n",
    "X_scaler = scaler.fit(X_train)\n",
    "\n",
    "# Scale the data\n",
    "X_train_scaled = X_scaler.transform(X_train)\n",
    "X_test_scaled = X_scaler.transform(X_test)"
   ]
  },
  {
   "cell_type": "code",
   "execution_count": 7,
   "id": "e024d6a3",
   "metadata": {},
   "outputs": [
    {
     "name": "stdout",
     "output_type": "stream",
     "text": [
      " Random forest predictive accuracy: 0.923\n"
     ]
    }
   ],
   "source": [
    "# Create a random forest classifier.\n",
    "rf_model = RandomForestClassifier(n_estimators=128, random_state=78)\n",
    "\n",
    "# Fitting the model\n",
    "rf_model = rf_model.fit(X_train_scaled, y_train)\n",
    "\n",
    "# Evaluate the model\n",
    "y_pred = rf_model.predict(X_test_scaled)\n",
    "print(f\" Random forest predictive accuracy: {accuracy_score(y_test,y_pred):.3f}\")"
   ]
  },
  {
   "cell_type": "code",
   "execution_count": 11,
   "id": "6a68baed",
   "metadata": {},
   "outputs": [],
   "source": [
    "# Calculating the confusion matrix\n",
    "cm = confusion_matrix(y_test, y_pred)\n",
    "cm_df = pd.DataFrame(\n",
    "    cm, index=[\"Actual 0\", \"Actual 1\"], columns=[\"Predicted 0\", \"Predicted 1\"]\n",
    ")\n",
    "\n",
    "# Calculating the accuracy score\n",
    "acc_score = accuracy_score(y_test, y_pred)"
   ]
  },
  {
   "cell_type": "code",
   "execution_count": 12,
   "id": "ba0c9e0a",
   "metadata": {},
   "outputs": [
    {
     "name": "stdout",
     "output_type": "stream",
     "text": [
      "Confusion Matrix\n"
     ]
    },
    {
     "data": {
      "text/html": [
       "<div>\n",
       "<style scoped>\n",
       "    .dataframe tbody tr th:only-of-type {\n",
       "        vertical-align: middle;\n",
       "    }\n",
       "\n",
       "    .dataframe tbody tr th {\n",
       "        vertical-align: top;\n",
       "    }\n",
       "\n",
       "    .dataframe thead th {\n",
       "        text-align: right;\n",
       "    }\n",
       "</style>\n",
       "<table border=\"1\" class=\"dataframe\">\n",
       "  <thead>\n",
       "    <tr style=\"text-align: right;\">\n",
       "      <th></th>\n",
       "      <th>Predicted 0</th>\n",
       "      <th>Predicted 1</th>\n",
       "    </tr>\n",
       "  </thead>\n",
       "  <tbody>\n",
       "    <tr>\n",
       "      <th>Actual 0</th>\n",
       "      <td>6380</td>\n",
       "      <td>24</td>\n",
       "    </tr>\n",
       "    <tr>\n",
       "      <th>Actual 1</th>\n",
       "      <td>515</td>\n",
       "      <td>38</td>\n",
       "    </tr>\n",
       "  </tbody>\n",
       "</table>\n",
       "</div>"
      ],
      "text/plain": [
       "          Predicted 0  Predicted 1\n",
       "Actual 0         6380           24\n",
       "Actual 1          515           38"
      ]
     },
     "metadata": {},
     "output_type": "display_data"
    },
    {
     "name": "stdout",
     "output_type": "stream",
     "text": [
      "Accuracy Score : 0.9225240764697427\n",
      "Classification Report\n",
      "              precision    recall  f1-score   support\n",
      "\n",
      "           0       0.93      1.00      0.96      6404\n",
      "           1       0.61      0.07      0.12       553\n",
      "\n",
      "    accuracy                           0.92      6957\n",
      "   macro avg       0.77      0.53      0.54      6957\n",
      "weighted avg       0.90      0.92      0.89      6957\n",
      "\n"
     ]
    }
   ],
   "source": [
    "# Displaying results\n",
    "print(\"Confusion Matrix\")\n",
    "display(cm_df)\n",
    "print(f\"Accuracy Score : {acc_score}\")\n",
    "print(\"Classification Report\")\n",
    "print(classification_report(y_test, y_pred))\n"
   ]
  },
  {
   "cell_type": "code",
   "execution_count": 13,
   "id": "78d7309e",
   "metadata": {},
   "outputs": [
    {
     "data": {
      "text/plain": [
       "array([0.09837934, 0.03321166, 0.13933137, 0.14642164, 0.12414508,\n",
       "       0.10623009, 0.12004934, 0.0344859 , 0.06091186, 0.1113595 ,\n",
       "       0.02547421])"
      ]
     },
     "execution_count": 13,
     "metadata": {},
     "output_type": "execute_result"
    }
   ],
   "source": [
    "# Calculate feature importance in the Random Forest model.\n",
    "importances = rf_model.feature_importances_\n",
    "importances"
   ]
  },
  {
   "cell_type": "code",
   "execution_count": 14,
   "id": "f8c13ddf",
   "metadata": {},
   "outputs": [
    {
     "data": {
      "text/plain": [
       "[(0.1464216411346469, 'sigma_i'),\n",
       " (0.1393313675394061, 'sigma_q'),\n",
       " (0.12414507906089173, 'sigma_om'),\n",
       " (0.1200493443592926, 'sigma_ma'),\n",
       " (0.11135950006250393, 'sigma_tp'),\n",
       " (0.10623008895216383, 'sigma_w'),\n",
       " (0.09837934186106456, 'sigma_e'),\n",
       " (0.06091186377348619, 'sigma_n'),\n",
       " (0.03448590004524001, 'sigma_ad'),\n",
       " (0.03321166238233031, 'sigma_a'),\n",
       " (0.02547421082897386, 'sigma_per')]"
      ]
     },
     "execution_count": 14,
     "metadata": {},
     "output_type": "execute_result"
    }
   ],
   "source": [
    "# We can sort the features by their importance.\n",
    "sorted(zip(rf_model.feature_importances_, X.columns), reverse=True)"
   ]
  },
  {
   "cell_type": "code",
   "execution_count": null,
   "id": "80752d61",
   "metadata": {},
   "outputs": [],
   "source": []
  }
 ],
 "metadata": {
  "kernelspec": {
   "display_name": "mlenv",
   "language": "python",
   "name": "mlenv"
  },
  "language_info": {
   "codemirror_mode": {
    "name": "ipython",
    "version": 3
   },
   "file_extension": ".py",
   "mimetype": "text/x-python",
   "name": "python",
   "nbconvert_exporter": "python",
   "pygments_lexer": "ipython3",
   "version": "3.7.11"
  }
 },
 "nbformat": 4,
 "nbformat_minor": 5
}
