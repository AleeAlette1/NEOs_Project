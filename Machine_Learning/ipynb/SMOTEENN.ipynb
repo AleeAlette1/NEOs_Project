{
 "cells": [
  {
   "cell_type": "code",
   "execution_count": 1,
   "id": "f2946cc4",
   "metadata": {},
   "outputs": [],
   "source": [
    "import pandas as pd\n",
    "from path import Path\n",
    "from collections import Counter"
   ]
  },
  {
   "cell_type": "code",
   "execution_count": 2,
   "id": "1e90d8b7",
   "metadata": {},
   "outputs": [
    {
     "data": {
      "text/html": [
       "<div>\n",
       "<style scoped>\n",
       "    .dataframe tbody tr th:only-of-type {\n",
       "        vertical-align: middle;\n",
       "    }\n",
       "\n",
       "    .dataframe tbody tr th {\n",
       "        vertical-align: top;\n",
       "    }\n",
       "\n",
       "    .dataframe thead th {\n",
       "        text-align: right;\n",
       "    }\n",
       "</style>\n",
       "<table border=\"1\" class=\"dataframe\">\n",
       "  <thead>\n",
       "    <tr style=\"text-align: right;\">\n",
       "      <th></th>\n",
       "      <th>pha</th>\n",
       "      <th>eccentricity</th>\n",
       "      <th>semi_major_axis(au)</th>\n",
       "      <th>q(au)</th>\n",
       "      <th>inclination(deg)</th>\n",
       "      <th>long_ascending_node(deg)</th>\n",
       "      <th>argument_perihelion(deg)</th>\n",
       "      <th>mean_anomaly(deg)</th>\n",
       "      <th>aphelion_distance(au)</th>\n",
       "    </tr>\n",
       "    <tr>\n",
       "      <th>spkid</th>\n",
       "      <th></th>\n",
       "      <th></th>\n",
       "      <th></th>\n",
       "      <th></th>\n",
       "      <th></th>\n",
       "      <th></th>\n",
       "      <th></th>\n",
       "      <th></th>\n",
       "      <th></th>\n",
       "    </tr>\n",
       "  </thead>\n",
       "  <tbody>\n",
       "    <tr>\n",
       "      <th>2000433</th>\n",
       "      <td>0</td>\n",
       "      <td>0.2227</td>\n",
       "      <td>1.458</td>\n",
       "      <td>1.133</td>\n",
       "      <td>10.83</td>\n",
       "      <td>304.30</td>\n",
       "      <td>178.90</td>\n",
       "      <td>246.90</td>\n",
       "      <td>1.78</td>\n",
       "    </tr>\n",
       "    <tr>\n",
       "      <th>2000719</th>\n",
       "      <td>0</td>\n",
       "      <td>0.5470</td>\n",
       "      <td>2.638</td>\n",
       "      <td>1.195</td>\n",
       "      <td>11.58</td>\n",
       "      <td>183.86</td>\n",
       "      <td>156.23</td>\n",
       "      <td>278.20</td>\n",
       "      <td>4.08</td>\n",
       "    </tr>\n",
       "    <tr>\n",
       "      <th>2000887</th>\n",
       "      <td>0</td>\n",
       "      <td>0.5705</td>\n",
       "      <td>2.473</td>\n",
       "      <td>1.062</td>\n",
       "      <td>9.39</td>\n",
       "      <td>110.43</td>\n",
       "      <td>350.49</td>\n",
       "      <td>86.61</td>\n",
       "      <td>3.88</td>\n",
       "    </tr>\n",
       "    <tr>\n",
       "      <th>2001036</th>\n",
       "      <td>0</td>\n",
       "      <td>0.5331</td>\n",
       "      <td>2.666</td>\n",
       "      <td>1.245</td>\n",
       "      <td>26.68</td>\n",
       "      <td>215.52</td>\n",
       "      <td>132.43</td>\n",
       "      <td>140.65</td>\n",
       "      <td>4.09</td>\n",
       "    </tr>\n",
       "    <tr>\n",
       "      <th>2001221</th>\n",
       "      <td>0</td>\n",
       "      <td>0.4358</td>\n",
       "      <td>1.919</td>\n",
       "      <td>1.082</td>\n",
       "      <td>11.88</td>\n",
       "      <td>171.32</td>\n",
       "      <td>26.64</td>\n",
       "      <td>261.04</td>\n",
       "      <td>2.75</td>\n",
       "    </tr>\n",
       "  </tbody>\n",
       "</table>\n",
       "</div>"
      ],
      "text/plain": [
       "         pha  eccentricity  semi_major_axis(au)  q(au)  inclination(deg)  \\\n",
       "spkid                                                                      \n",
       "2000433    0        0.2227                1.458  1.133             10.83   \n",
       "2000719    0        0.5470                2.638  1.195             11.58   \n",
       "2000887    0        0.5705                2.473  1.062              9.39   \n",
       "2001036    0        0.5331                2.666  1.245             26.68   \n",
       "2001221    0        0.4358                1.919  1.082             11.88   \n",
       "\n",
       "         long_ascending_node(deg)  argument_perihelion(deg)  \\\n",
       "spkid                                                         \n",
       "2000433                    304.30                    178.90   \n",
       "2000719                    183.86                    156.23   \n",
       "2000887                    110.43                    350.49   \n",
       "2001036                    215.52                    132.43   \n",
       "2001221                    171.32                     26.64   \n",
       "\n",
       "         mean_anomaly(deg)  aphelion_distance(au)  \n",
       "spkid                                              \n",
       "2000433             246.90                   1.78  \n",
       "2000719             278.20                   4.08  \n",
       "2000887              86.61                   3.88  \n",
       "2001036             140.65                   4.09  \n",
       "2001221             261.04                   2.75  "
      ]
     },
     "execution_count": 2,
     "metadata": {},
     "output_type": "execute_result"
    }
   ],
   "source": [
    "file_path = \"ds2_cleaned.csv\"\n",
    "ds2 = pd.read_csv(file_path, index_col=0)\n",
    "ds2.head()"
   ]
  },
  {
   "cell_type": "code",
   "execution_count": 3,
   "id": "e88d3013",
   "metadata": {},
   "outputs": [],
   "source": [
    "# Remove pha status target from features data\n",
    "y = ds2.pha\n",
    "X = ds2.drop(columns=['pha'])"
   ]
  },
  {
   "cell_type": "code",
   "execution_count": 4,
   "id": "80bea2aa",
   "metadata": {},
   "outputs": [
    {
     "data": {
      "text/plain": [
       "Counter({0: 25614, 1: 2213})"
      ]
     },
     "execution_count": 4,
     "metadata": {},
     "output_type": "execute_result"
    }
   ],
   "source": [
    "Counter(y)"
   ]
  },
  {
   "cell_type": "code",
   "execution_count": 5,
   "id": "86cc716c",
   "metadata": {},
   "outputs": [],
   "source": [
    "# Normal train-test split\n",
    "from sklearn.model_selection import train_test_split\n",
    "X_train, X_test, y_train, y_test = train_test_split(X, y, random_state=1)"
   ]
  },
  {
   "cell_type": "code",
   "execution_count": 6,
   "id": "e0add237",
   "metadata": {},
   "outputs": [
    {
     "data": {
      "text/plain": [
       "Counter({0: 15986, 1: 22131})"
      ]
     },
     "execution_count": 6,
     "metadata": {},
     "output_type": "execute_result"
    }
   ],
   "source": [
    "# Use the SMOTEENN technique to perform combination sampling on the data\n",
    "# Count the resampled classes\n",
    "from imblearn.combine import SMOTEENN\n",
    "\n",
    "smote_enn = SMOTEENN(random_state=0)\n",
    "X_resampled, y_resampled = smote_enn.fit_resample(X, y)\n",
    "Counter(y_resampled)"
   ]
  },
  {
   "cell_type": "code",
   "execution_count": 7,
   "id": "0d9400b0",
   "metadata": {},
   "outputs": [
    {
     "data": {
      "text/plain": [
       "LogisticRegression(random_state=1)"
      ]
     },
     "execution_count": 7,
     "metadata": {},
     "output_type": "execute_result"
    }
   ],
   "source": [
    "# Fit a Logistic regression model using random undersampled data\n",
    "from sklearn.linear_model import LogisticRegression\n",
    "model = LogisticRegression(solver='lbfgs', random_state=1)\n",
    "model.fit(X_resampled, y_resampled)"
   ]
  },
  {
   "cell_type": "code",
   "execution_count": 12,
   "id": "6e44b1ac",
   "metadata": {},
   "outputs": [],
   "source": [
    "# Calculating the confusion matrix\n",
    "from sklearn.metrics import confusion_matrix, accuracy_score, classification_report\n",
    "y_pred = model.predict(X_test)\n",
    "cm = confusion_matrix(y_test, y_pred)\n",
    "cm_df = pd.DataFrame(\n",
    "    cm, index=[\"Actual 0\", \"Actual 1\"], columns=[\"Predicted 0\", \"Predicted 1\"]\n",
    ")\n",
    "\n",
    "\n",
    "\n",
    "# Calculating the accuracy score\n",
    "acc_score = accuracy_score(y_test, y_pred)"
   ]
  },
  {
   "cell_type": "code",
   "execution_count": 14,
   "id": "868be966",
   "metadata": {},
   "outputs": [
    {
     "name": "stdout",
     "output_type": "stream",
     "text": [
      "Confusion Matrix\n"
     ]
    },
    {
     "data": {
      "text/html": [
       "<div>\n",
       "<style scoped>\n",
       "    .dataframe tbody tr th:only-of-type {\n",
       "        vertical-align: middle;\n",
       "    }\n",
       "\n",
       "    .dataframe tbody tr th {\n",
       "        vertical-align: top;\n",
       "    }\n",
       "\n",
       "    .dataframe thead th {\n",
       "        text-align: right;\n",
       "    }\n",
       "</style>\n",
       "<table border=\"1\" class=\"dataframe\">\n",
       "  <thead>\n",
       "    <tr style=\"text-align: right;\">\n",
       "      <th></th>\n",
       "      <th>Predicted 0</th>\n",
       "      <th>Predicted 1</th>\n",
       "    </tr>\n",
       "  </thead>\n",
       "  <tbody>\n",
       "    <tr>\n",
       "      <th>Actual 0</th>\n",
       "      <td>4011</td>\n",
       "      <td>2375</td>\n",
       "    </tr>\n",
       "    <tr>\n",
       "      <th>Actual 1</th>\n",
       "      <td>141</td>\n",
       "      <td>430</td>\n",
       "    </tr>\n",
       "  </tbody>\n",
       "</table>\n",
       "</div>"
      ],
      "text/plain": [
       "          Predicted 0  Predicted 1\n",
       "Actual 0         4011         2375\n",
       "Actual 1          141          430"
      ]
     },
     "metadata": {},
     "output_type": "display_data"
    },
    {
     "name": "stdout",
     "output_type": "stream",
     "text": [
      "Accuracy Score : 0.638349863446888\n",
      "Classification Report\n",
      "              precision    recall  f1-score   support\n",
      "\n",
      "           0       0.97      0.63      0.76      6386\n",
      "           1       0.15      0.75      0.25       571\n",
      "\n",
      "    accuracy                           0.64      6957\n",
      "   macro avg       0.56      0.69      0.51      6957\n",
      "weighted avg       0.90      0.64      0.72      6957\n",
      "\n"
     ]
    }
   ],
   "source": [
    "# Displaying results\n",
    "print(\"Confusion Matrix\")\n",
    "display(cm_df)\n",
    "print(f\"Accuracy Score : {acc_score}\")\n",
    "print(\"Classification Report\")\n",
    "print(classification_report(y_test, y_pred))\n"
   ]
  },
  {
   "cell_type": "code",
   "execution_count": 15,
   "id": "97e67ed4",
   "metadata": {},
   "outputs": [
    {
     "data": {
      "text/plain": [
       "0.6905787506931482"
      ]
     },
     "execution_count": 15,
     "metadata": {},
     "output_type": "execute_result"
    }
   ],
   "source": [
    "# Calculate the Balanced Accuracy Score\n",
    "from sklearn.metrics import balanced_accuracy_score\n",
    "\n",
    "balanced_accuracy_score(y_test, y_pred)"
   ]
  },
  {
   "cell_type": "code",
   "execution_count": 16,
   "id": "37479453",
   "metadata": {},
   "outputs": [
    {
     "name": "stdout",
     "output_type": "stream",
     "text": [
      "                   pre       rec       spe        f1       geo       iba       sup\n",
      "\n",
      "          0       0.97      0.63      0.75      0.76      0.69      0.47      6386\n",
      "          1       0.15      0.75      0.63      0.25      0.69      0.48       571\n",
      "\n",
      "avg / total       0.90      0.64      0.74      0.72      0.69      0.47      6957\n",
      "\n"
     ]
    }
   ],
   "source": [
    "# Print the imbalanced classification report\n",
    "from imblearn.metrics import classification_report_imbalanced\n",
    "\n",
    "print(classification_report_imbalanced(y_test, y_pred))"
   ]
  },
  {
   "cell_type": "code",
   "execution_count": null,
   "id": "c865bb94",
   "metadata": {},
   "outputs": [],
   "source": []
  }
 ],
 "metadata": {
  "kernelspec": {
   "display_name": "mlenv",
   "language": "python",
   "name": "mlenv"
  },
  "language_info": {
   "codemirror_mode": {
    "name": "ipython",
    "version": 3
   },
   "file_extension": ".py",
   "mimetype": "text/x-python",
   "name": "python",
   "nbconvert_exporter": "python",
   "pygments_lexer": "ipython3",
   "version": "3.7.11"
  }
 },
 "nbformat": 4,
 "nbformat_minor": 5
}
